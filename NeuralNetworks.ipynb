{
  "nbformat": 4,
  "nbformat_minor": 0,
  "metadata": {
    "colab": {
      "provenance": [],
      "authorship_tag": "ABX9TyNPSt13WNAo4XSKjMVKtrML"
    },
    "kernelspec": {
      "name": "python3",
      "display_name": "Python 3"
    },
    "language_info": {
      "name": "python"
    }
  },
  "cells": [
    {
      "cell_type": "code",
      "source": [
        "!pip install requests"
      ],
      "metadata": {
        "colab": {
          "base_uri": "https://localhost:8080/"
        },
        "id": "jR83w3OUdAaH",
        "outputId": "f8ac8b13-5d58-4b60-c5cf-89260fada854"
      },
      "execution_count": null,
      "outputs": [
        {
          "output_type": "stream",
          "name": "stdout",
          "text": [
            "Requirement already satisfied: requests in /usr/local/lib/python3.10/dist-packages (2.27.1)\n",
            "Requirement already satisfied: urllib3<1.27,>=1.21.1 in /usr/local/lib/python3.10/dist-packages (from requests) (1.26.16)\n",
            "Requirement already satisfied: certifi>=2017.4.17 in /usr/local/lib/python3.10/dist-packages (from requests) (2023.5.7)\n",
            "Requirement already satisfied: charset-normalizer~=2.0.0 in /usr/local/lib/python3.10/dist-packages (from requests) (2.0.12)\n",
            "Requirement already satisfied: idna<4,>=2.5 in /usr/local/lib/python3.10/dist-packages (from requests) (3.4)\n"
          ]
        }
      ]
    },
    {
      "cell_type": "code",
      "execution_count": null,
      "metadata": {
        "id": "33dIQ0S-35bf"
      },
      "outputs": [],
      "source": [
        "import math\n",
        "import random\n",
        "\n",
        "import numpy as np\n",
        "import pandas as pd\n",
        "import os\n",
        "import requests\n",
        "from matplotlib import pyplot as plt"
      ]
    },
    {
      "cell_type": "code",
      "source": [
        "def download_data():\n",
        "\n",
        "  if not os.path.exists('../Data'):\n",
        "    os.mkdir('../Data')\n",
        "\n",
        "  if ('fashion-mnist_train.csv' not in os.listdir('../Data') and\n",
        "      'fashion-mnist_test.csv' not in os.listdir('../Data')):\n",
        "    print('Train dataset loading.')\n",
        "    url = \"https://www.dropbox.com/s/5vg67ndkth17mvc/fashion-mnist_train.csv?dl=1\"\n",
        "    r = requests.get(url, allow_redirects=True)\n",
        "    open('../Data/fashion-mnist_train.csv', 'wb').write(r.content)\n",
        "    print('Loaded.')\n",
        "\n",
        "    print('Test dataset loading.')\n",
        "    url = \"https://www.dropbox.com/s/9bj5a14unl5os6a/fashion-mnist_test.csv?dl=1\"\n",
        "    r = requests.get(url, allow_redirects=True)\n",
        "    open('../Data/fashion-mnist_test.csv', 'wb').write(r.content)\n",
        "    print('Loaded.')"
      ],
      "metadata": {
        "id": "8VZH2hdMgDSU"
      },
      "execution_count": null,
      "outputs": []
    },
    {
      "cell_type": "code",
      "source": [
        "def load_dataset(path_test, path_train):\n",
        "  raw_train = pd.read_csv(path_train)\n",
        "  raw_test = pd.read_csv(path_test)\n",
        "\n",
        "  X_train = raw_train[raw_train.columns[1:]].values\n",
        "  X_test = raw_test[raw_test.columns[1:]].values\n",
        "\n",
        "  y_train = one_hot(raw_train['label'].values)\n",
        "  y_test = one_hot(raw_test['label'].values)\n",
        "\n",
        "  return X_train, X_test, y_train, y_test"
      ],
      "metadata": {
        "id": "mZ6jFQwrigZS"
      },
      "execution_count": null,
      "outputs": []
    },
    {
      "cell_type": "code",
      "source": [
        "def scale(X_train, X_test):\n",
        "  \"\"\"\n",
        "  :param X_train:\n",
        "  :param X_test:\n",
        "  :return:\n",
        "  \"\"\"\n",
        "  maximus = np.concatenate((X_train, X_test)).max()\n",
        "  X_trained_scaled = X_train / maximus\n",
        "  X_test_scaled = X_test / maximus\n",
        "  return X_trained_scaled, X_test_scaled"
      ],
      "metadata": {
        "id": "jQFv_mh1cBnc"
      },
      "execution_count": null,
      "outputs": []
    },
    {
      "cell_type": "code",
      "source": [
        "def xavier(n_in, n_out):\n",
        "  borne = np.sqrt(6 / (n_in + n_out))\n",
        "  matrix = np.random.uniform(-borne, borne, (n_in, n_out))\n",
        "  return matrix"
      ],
      "metadata": {
        "id": "3MIlyFxhcBnd"
      },
      "execution_count": null,
      "outputs": []
    },
    {
      "cell_type": "code",
      "source": [
        "def sigmoid(x):\n",
        "  return 1/(1+np.exp(-x))\n",
        "\n",
        "def mse(y_true, y_pred):\n",
        "  return np.mean((y_pred - y_true)**2)\n",
        "\n",
        "def dmse(y_true, y_pred):\n",
        "  return 2 * (y_pred - y_true)\n",
        "\n",
        "def dsigmoid(x):\n",
        "  return sigmoid(x) * (1 - sigmoid(x))"
      ],
      "metadata": {
        "id": "SZlTTNaT4Yr0"
      },
      "execution_count": null,
      "outputs": []
    },
    {
      "cell_type": "code",
      "source": [
        "def one_hot(data: np.ndarray) -> np.ndarray:\n",
        "    y_train = np.zeros((data.size, data.max() + 1))\n",
        "    rows = np.arange(data.size)\n",
        "    y_train[rows, data] = 1\n",
        "    return y_train"
      ],
      "metadata": {
        "id": "nDfMmTS0JI6b"
      },
      "execution_count": null,
      "outputs": []
    },
    {
      "cell_type": "code",
      "source": [
        "def plot(loss_history: list, accuracy_history: list, filename='plot'):\n",
        "    \"\"\"\n",
        "\n",
        "    :param loss_history:\n",
        "    :param accuracy_history:\n",
        "    :param filename:\n",
        "    :return: Visualize learning process\n",
        "    \"\"\"\n",
        "    # function to visualize learning process at stage 4\n",
        "\n",
        "    n_epochs = len(loss_history)\n",
        "\n",
        "    plt.figure(figsize=(20, 10))\n",
        "    plt.subplot(1, 2, 1)\n",
        "    plt.plot(loss_history)\n",
        "\n",
        "    plt.xlabel('Epoch number')\n",
        "    plt.ylabel('Loss')\n",
        "    plt.xticks(np.arange(0, n_epochs, 4))\n",
        "    plt.title('Loss on train dataframe from epoch')\n",
        "    plt.grid()\n",
        "\n",
        "    plt.subplot(1, 2, 2)\n",
        "    plt.plot(accuracy_history)\n",
        "\n",
        "    plt.xlabel('Epoch number')\n",
        "    plt.ylabel('Accuracy')\n",
        "    plt.xticks(np.arange(0, n_epochs, 4))\n",
        "    plt.title('Accuracy on test dataframe from epoch')\n",
        "    plt.grid()\n",
        "\n",
        "    plt.savefig(f'{filename}.png')"
      ],
      "metadata": {
        "id": "MzzgiC2S4YpR"
      },
      "execution_count": null,
      "outputs": []
    },
    {
      "cell_type": "code",
      "source": [
        "class OneLayerNeural:\n",
        "\n",
        "  def __init__(self, n_features, n_classes):\n",
        "    self.bias = xavier(1, n_classes)\n",
        "    self.weight = xavier(n_features, n_classes)\n",
        "    self.forward_step = None\n",
        "\n",
        "  def forward(self, X):\n",
        "    forward_step = np.dot(X, self.weight)+self.bias\n",
        "    self.forward_step = forward_step\n",
        "\n",
        "  def backprop(self, X, y, alpha):\n",
        "    dmse_step = dmse(y_true=y, y_pred=self.forward_step)\n",
        "    dsig_step = dsigmoid(np.dot(X, self.weight) + self.bias)\n",
        "    err = dmse_step * dsig_step\n",
        "    d_weight = np.dot(X.T, err) / X.shape[0]\n",
        "    d_bias = np.mean(err, axis=0)\n",
        "    self.weight -= alpha * d_weight\n",
        "    self.bias -= alpha * d_bias\n"
      ],
      "metadata": {
        "id": "yJpB27Ur4Ym2"
      },
      "execution_count": null,
      "outputs": []
    },
    {
      "cell_type": "code",
      "source": [
        "class TwoLayerNeural:\n",
        "\n",
        "  def __init__(self, n_features, n_classes):\n",
        "    pass\n",
        "\n",
        "  def forward(self, X):\n",
        "    pass\n",
        "\n",
        "  def backprop(self, X, y, alpha):\n",
        "    pass"
      ],
      "metadata": {
        "id": "4mzlreU1qvcu"
      },
      "execution_count": null,
      "outputs": []
    },
    {
      "cell_type": "code",
      "source": [
        "class NLayerNeural:\n",
        "\n",
        "  def __init__(self, n_features, n_classes):\n",
        "    pass\n",
        "\n",
        "  def forward(self, X):\n",
        "    pass\n",
        "\n",
        "  def backprop(self, X, y, alpha):\n",
        "    pass"
      ],
      "metadata": {
        "id": "xwVLhkU2q_hY"
      },
      "execution_count": null,
      "outputs": []
    },
    {
      "cell_type": "code",
      "source": [
        "def accuracy_fn(model, dataset, y_true):\n",
        "    \"\"\"\n",
        "      :param model:\n",
        "      :param dataset:\n",
        "      :param y_true:\n",
        "      :return:\n",
        "        \"\"\"\n",
        "    correct_pred = 0\n",
        "    model.forward(dataset)\n",
        "    preds = model.forward_step\n",
        "    total_num_items = len(y_true)\n",
        "\n",
        "    for true_label, pred_label in zip(y_true[0], preds[0]):\n",
        "        if true_label == pred_label:\n",
        "            correct_pred += 1\n",
        "\n",
        "    return correct_pred / total_num_items"
      ],
      "metadata": {
        "id": "DW7jTRpj4YkH"
      },
      "execution_count": null,
      "outputs": []
    },
    {
      "cell_type": "code",
      "source": [
        "def train(estimator: OneLayerNeural, alpha: float, x_train: np.ndarray, y_train: np.ndarray, epochs: int,\n",
        "          batch_size: int):\n",
        "    \"\"\"\n",
        "    :param estimator:\n",
        "    :param alpha:\n",
        "    :param x_train:\n",
        "    :param y_train:\n",
        "    :param epochs:\n",
        "    :param batch_size:\n",
        "    :return: Perform the trainig step on each batch\n",
        "    \"\"\"\n",
        "    estimator.forward(X_train)\n",
        "    estimator.backprop(X_train, y_train, alpha)\n",
        "\n",
        "    for batch, (X, y) in zip(X_train,y_train)\n",
        "\n"
      ],
      "metadata": {
        "id": "Tx5GXbvC4Ygb"
      },
      "execution_count": null,
      "outputs": []
    },
    {
      "cell_type": "code",
      "source": [
        "download_data()"
      ],
      "metadata": {
        "colab": {
          "base_uri": "https://localhost:8080/"
        },
        "id": "zwUePl24lAxm",
        "outputId": "d8bb62a0-5533-44a4-ee09-a40cc80e1701"
      },
      "execution_count": null,
      "outputs": [
        {
          "output_type": "stream",
          "name": "stdout",
          "text": [
            "Train dataset loading.\n",
            "Loaded.\n",
            "Test dataset loading.\n",
            "Loaded.\n"
          ]
        }
      ]
    },
    {
      "cell_type": "code",
      "source": [
        "X_train, X_test, y_train, y_test = load_dataset('../Data/fashion-mnist_train.csv', '../Data/fashion-mnist_test.csv')\n",
        "model_0 = OneLayerNeural(X_train.shape[1], y_train.shape[1])"
      ],
      "metadata": {
        "id": "JgVFTmgNihGx"
      },
      "execution_count": null,
      "outputs": []
    },
    {
      "cell_type": "code",
      "source": [],
      "metadata": {
        "id": "byv-uz6EihEv"
      },
      "execution_count": null,
      "outputs": []
    },
    {
      "cell_type": "code",
      "source": [],
      "metadata": {
        "id": "StsLP-uEquCU"
      },
      "execution_count": null,
      "outputs": []
    },
    {
      "cell_type": "code",
      "source": [],
      "metadata": {
        "id": "szUA-Uy9quAP"
      },
      "execution_count": null,
      "outputs": []
    },
    {
      "cell_type": "code",
      "source": [],
      "metadata": {
        "id": "ZJ2Y4bRCqt9q"
      },
      "execution_count": null,
      "outputs": []
    }
  ]
}